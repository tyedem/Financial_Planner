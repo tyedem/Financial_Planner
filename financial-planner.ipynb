{
 "cells": [
  {
   "cell_type": "markdown",
   "metadata": {},
   "source": [
    "# Unit 5 - Financial Planning"
   ]
  },
  {
   "cell_type": "code",
   "execution_count": 1,
   "metadata": {},
   "outputs": [],
   "source": [
    "# Initial imports\n",
    "import os\n",
    "import requests\n",
    "#import json\n",
    "import pandas as pd\n",
    "from dotenv import load_dotenv\n",
    "import alpaca_trade_api as tradeapi\n",
    "from MCForecastTools import MCSimulation\n",
    "\n",
    "%matplotlib inline"
   ]
  },
  {
   "cell_type": "code",
   "execution_count": 2,
   "metadata": {},
   "outputs": [
    {
     "data": {
      "text/plain": [
       "True"
      ]
     },
     "execution_count": 2,
     "metadata": {},
     "output_type": "execute_result"
    }
   ],
   "source": [
    "# Load .env enviroment variables\n",
    "load_dotenv()"
   ]
  },
  {
   "cell_type": "markdown",
   "metadata": {},
   "source": [
    "## Part 1 - Personal Finance Planner"
   ]
  },
  {
   "cell_type": "markdown",
   "metadata": {},
   "source": [
    "### Collect Crypto Prices Using the `requests` Library"
   ]
  },
  {
   "cell_type": "code",
   "execution_count": 3,
   "metadata": {},
   "outputs": [],
   "source": [
    "# Set current amount of crypto assets\n",
    "my_btc = 1.2\n",
    "my_eth = 5.3"
   ]
  },
  {
   "cell_type": "code",
   "execution_count": 4,
   "metadata": {},
   "outputs": [],
   "source": [
    "# Crypto API URLs\n",
    "btc_url = \"https://api.alternative.me/v2/ticker/Bitcoin/?convert=CAD\"\n",
    "eth_url = \"https://api.alternative.me/v2/ticker/Ethereum/?convert=CAD\""
   ]
  },
  {
   "cell_type": "code",
   "execution_count": 5,
   "metadata": {},
   "outputs": [],
   "source": [
    "# Fetch current BTC price\n",
    "response_btc = requests.get(btc_url).json()\n",
    "\n",
    "# Fetch current ETH price\n",
    "response_eth = requests.get(eth_url).json()"
   ]
  },
  {
   "cell_type": "code",
   "execution_count": 6,
   "metadata": {},
   "outputs": [],
   "source": [
    "# Compute current value of my crypto\n",
    "my_btc_value = response_btc['data']['1']['quotes']['CAD']['price']\n",
    "my_eth_value = response_eth['data']['1027']['quotes']['CAD']['price']"
   ]
  },
  {
   "cell_type": "code",
   "execution_count": 7,
   "metadata": {},
   "outputs": [
    {
     "name": "stdout",
     "output_type": "stream",
     "text": [
      "The current value of your 1.2 BTC is $62616.57\n",
      "The current value of your 5.3 ETH is $5304.46\n"
     ]
    }
   ],
   "source": [
    "# Print current crypto wallet balance\n",
    "print(f\"The current value of your {my_btc} BTC is ${my_btc_value:0.2f}\")\n",
    "print(f\"The current value of your {my_eth} ETH is ${my_eth_value:0.2f}\")"
   ]
  },
  {
   "cell_type": "markdown",
   "metadata": {},
   "source": [
    "### Collect Investments Data Using Alpaca: `SPY` (stocks) and `AGG` (bonds)"
   ]
  },
  {
   "cell_type": "code",
   "execution_count": 8,
   "metadata": {},
   "outputs": [],
   "source": [
    "# Set current amount of shares\n",
    "my_agg = 200\n",
    "my_spy = 50"
   ]
  },
  {
   "cell_type": "code",
   "execution_count": 9,
   "metadata": {},
   "outputs": [],
   "source": [
    "# Set Alpaca API key and secret\n",
    "alpaca_api_key = os.getenv(\"ALPACA_API_KEY\")\n",
    "alpaca_secret_key = os.getenv(\"ALPACA_SECRET_KEY\")\n",
    "\n",
    "# Create the Alpaca API object\n",
    "api = tradeapi.REST(\n",
    "    alpaca_api_key,\n",
    "    alpaca_secret_key,\n",
    "    api_version=\"v2\")"
   ]
  },
  {
   "cell_type": "code",
   "execution_count": 10,
   "metadata": {},
   "outputs": [
    {
     "data": {
      "text/html": [
       "<div>\n",
       "<style scoped>\n",
       "    .dataframe tbody tr th:only-of-type {\n",
       "        vertical-align: middle;\n",
       "    }\n",
       "\n",
       "    .dataframe tbody tr th {\n",
       "        vertical-align: top;\n",
       "    }\n",
       "\n",
       "    .dataframe thead tr th {\n",
       "        text-align: left;\n",
       "    }\n",
       "\n",
       "    .dataframe thead tr:last-of-type th {\n",
       "        text-align: right;\n",
       "    }\n",
       "</style>\n",
       "<table border=\"1\" class=\"dataframe\">\n",
       "  <thead>\n",
       "    <tr>\n",
       "      <th></th>\n",
       "      <th colspan=\"5\" halign=\"left\">AGG</th>\n",
       "      <th colspan=\"5\" halign=\"left\">SPY</th>\n",
       "    </tr>\n",
       "    <tr>\n",
       "      <th></th>\n",
       "      <th>open</th>\n",
       "      <th>high</th>\n",
       "      <th>low</th>\n",
       "      <th>close</th>\n",
       "      <th>volume</th>\n",
       "      <th>open</th>\n",
       "      <th>high</th>\n",
       "      <th>low</th>\n",
       "      <th>close</th>\n",
       "      <th>volume</th>\n",
       "    </tr>\n",
       "    <tr>\n",
       "      <th>time</th>\n",
       "      <th></th>\n",
       "      <th></th>\n",
       "      <th></th>\n",
       "      <th></th>\n",
       "      <th></th>\n",
       "      <th></th>\n",
       "      <th></th>\n",
       "      <th></th>\n",
       "      <th></th>\n",
       "      <th></th>\n",
       "    </tr>\n",
       "  </thead>\n",
       "  <tbody>\n",
       "    <tr>\n",
       "      <th>2021-11-29 00:00:00-05:00</th>\n",
       "      <td>114.15</td>\n",
       "      <td>114.6000</td>\n",
       "      <td>114.1300</td>\n",
       "      <td>114.550</td>\n",
       "      <td>7604952.0</td>\n",
       "      <td>464.07</td>\n",
       "      <td>466.56</td>\n",
       "      <td>461.73</td>\n",
       "      <td>464.63</td>\n",
       "      <td>68239627.0</td>\n",
       "    </tr>\n",
       "    <tr>\n",
       "      <th>2021-11-30 00:00:00-05:00</th>\n",
       "      <td>114.87</td>\n",
       "      <td>115.1074</td>\n",
       "      <td>114.5000</td>\n",
       "      <td>114.765</td>\n",
       "      <td>10624796.0</td>\n",
       "      <td>462.00</td>\n",
       "      <td>464.03</td>\n",
       "      <td>455.30</td>\n",
       "      <td>455.78</td>\n",
       "      <td>126381409.0</td>\n",
       "    </tr>\n",
       "    <tr>\n",
       "      <th>2021-12-01 00:00:00-05:00</th>\n",
       "      <td>114.27</td>\n",
       "      <td>114.6400</td>\n",
       "      <td>114.2100</td>\n",
       "      <td>114.610</td>\n",
       "      <td>11306707.0</td>\n",
       "      <td>461.64</td>\n",
       "      <td>464.67</td>\n",
       "      <td>450.29</td>\n",
       "      <td>450.53</td>\n",
       "      <td>112177764.0</td>\n",
       "    </tr>\n",
       "    <tr>\n",
       "      <th>2021-12-02 00:00:00-05:00</th>\n",
       "      <td>114.67</td>\n",
       "      <td>114.7900</td>\n",
       "      <td>114.4001</td>\n",
       "      <td>114.610</td>\n",
       "      <td>7507924.0</td>\n",
       "      <td>450.72</td>\n",
       "      <td>459.07</td>\n",
       "      <td>450.31</td>\n",
       "      <td>457.38</td>\n",
       "      <td>109873511.0</td>\n",
       "    </tr>\n",
       "    <tr>\n",
       "      <th>2021-12-03 00:00:00-05:00</th>\n",
       "      <td>114.50</td>\n",
       "      <td>115.2400</td>\n",
       "      <td>114.4600</td>\n",
       "      <td>115.060</td>\n",
       "      <td>7279561.0</td>\n",
       "      <td>459.17</td>\n",
       "      <td>460.30</td>\n",
       "      <td>448.92</td>\n",
       "      <td>453.43</td>\n",
       "      <td>124795750.0</td>\n",
       "    </tr>\n",
       "  </tbody>\n",
       "</table>\n",
       "</div>"
      ],
      "text/plain": [
       "                              AGG                                           \\\n",
       "                             open      high       low    close      volume   \n",
       "time                                                                         \n",
       "2021-11-29 00:00:00-05:00  114.15  114.6000  114.1300  114.550   7604952.0   \n",
       "2021-11-30 00:00:00-05:00  114.87  115.1074  114.5000  114.765  10624796.0   \n",
       "2021-12-01 00:00:00-05:00  114.27  114.6400  114.2100  114.610  11306707.0   \n",
       "2021-12-02 00:00:00-05:00  114.67  114.7900  114.4001  114.610   7507924.0   \n",
       "2021-12-03 00:00:00-05:00  114.50  115.2400  114.4600  115.060   7279561.0   \n",
       "\n",
       "                              SPY                                       \n",
       "                             open    high     low   close       volume  \n",
       "time                                                                    \n",
       "2021-11-29 00:00:00-05:00  464.07  466.56  461.73  464.63   68239627.0  \n",
       "2021-11-30 00:00:00-05:00  462.00  464.03  455.30  455.78  126381409.0  \n",
       "2021-12-01 00:00:00-05:00  461.64  464.67  450.29  450.53  112177764.0  \n",
       "2021-12-02 00:00:00-05:00  450.72  459.07  450.31  457.38  109873511.0  \n",
       "2021-12-03 00:00:00-05:00  459.17  460.30  448.92  453.43  124795750.0  "
      ]
     },
     "execution_count": 10,
     "metadata": {},
     "output_type": "execute_result"
    }
   ],
   "source": [
    "# Format current date as ISO format\n",
    "today = pd.Timestamp(\"2021-12-03\", tz=\"America/New_York\").isoformat()\n",
    "\n",
    "# Set the tickers\n",
    "tickers = [\"AGG\", \"SPY\"]\n",
    "\n",
    "# Set timeframe to '1D' for Alpaca API\n",
    "timeframe = \"1D\"\n",
    "\n",
    "# Get current closing prices for SPY and AGG\n",
    "# (use a limit=1000 parameter to call the most recent 1000 days of data)\n",
    "df_portfolio = api.get_barset(\n",
    "    tickers,\n",
    "    timeframe,\n",
    "    limit = 1000,\n",
    "    end = today\n",
    ").df\n",
    "\n",
    "# Preview DataFrame\n",
    "df_portfolio.tail()"
   ]
  },
  {
   "cell_type": "code",
   "execution_count": 11,
   "metadata": {},
   "outputs": [
    {
     "name": "stdout",
     "output_type": "stream",
     "text": [
      "Current AGG closing price: $115.06\n",
      "Current SPY closing price: $453.43\n"
     ]
    }
   ],
   "source": [
    "# Pick AGG and SPY close prices\n",
    "agg_close_price = float(df_portfolio.iloc[-1]['AGG']['close'])\n",
    "spy_close_price = float(df_portfolio.iloc[-1]['SPY']['close'])\n",
    "# Print AGG and SPY close prices\n",
    "print(f\"Current AGG closing price: ${agg_close_price}\")\n",
    "print(f\"Current SPY closing price: ${spy_close_price}\")"
   ]
  },
  {
   "cell_type": "code",
   "execution_count": 12,
   "metadata": {},
   "outputs": [
    {
     "name": "stdout",
     "output_type": "stream",
     "text": [
      "The current value of your 50 SPY shares is $22671.50\n",
      "The current value of your 200 AGG shares is $23012.00\n"
     ]
    }
   ],
   "source": [
    "# Compute the current value of shares\n",
    "my_spy_value = spy_close_price * my_spy\n",
    "my_agg_value = agg_close_price * my_agg\n",
    "# Print current value of shares\n",
    "print(f\"The current value of your {my_spy} SPY shares is ${my_spy_value:0.2f}\")\n",
    "print(f\"The current value of your {my_agg} AGG shares is ${my_agg_value:0.2f}\")"
   ]
  },
  {
   "cell_type": "markdown",
   "metadata": {},
   "source": [
    "### Savings Health Analysis"
   ]
  },
  {
   "cell_type": "code",
   "execution_count": 13,
   "metadata": {},
   "outputs": [
    {
     "data": {
      "text/html": [
       "<div>\n",
       "<style scoped>\n",
       "    .dataframe tbody tr th:only-of-type {\n",
       "        vertical-align: middle;\n",
       "    }\n",
       "\n",
       "    .dataframe tbody tr th {\n",
       "        vertical-align: top;\n",
       "    }\n",
       "\n",
       "    .dataframe thead th {\n",
       "        text-align: right;\n",
       "    }\n",
       "</style>\n",
       "<table border=\"1\" class=\"dataframe\">\n",
       "  <thead>\n",
       "    <tr style=\"text-align: right;\">\n",
       "      <th></th>\n",
       "      <th>Amount</th>\n",
       "    </tr>\n",
       "  </thead>\n",
       "  <tbody>\n",
       "    <tr>\n",
       "      <th>Crypto</th>\n",
       "      <td>67921.03</td>\n",
       "    </tr>\n",
       "    <tr>\n",
       "      <th>Shares</th>\n",
       "      <td>45683.50</td>\n",
       "    </tr>\n",
       "  </tbody>\n",
       "</table>\n",
       "</div>"
      ],
      "text/plain": [
       "          Amount\n",
       "Crypto  67921.03\n",
       "Shares  45683.50"
      ]
     },
     "metadata": {},
     "output_type": "display_data"
    }
   ],
   "source": [
    "# Set monthly household income\n",
    "monthly_income = 12000\n",
    "\n",
    "# Consolidate financial assets data\n",
    "combined_assets = ['Crypto', 'Shares']\n",
    "amount = [round((my_btc_value + my_eth_value), 2), (my_agg_value + my_spy_value)]\n",
    "# Create savings DataFrame\n",
    "df_savings = pd.DataFrame({'Amount': amount}, index=combined_assets)\n",
    "\n",
    "# Display savings DataFrame\n",
    "display(df_savings)"
   ]
  },
  {
   "cell_type": "code",
   "execution_count": 14,
   "metadata": {},
   "outputs": [
    {
     "data": {
      "text/plain": [
       "<AxesSubplot:title={'center':'Total Savings Composition'}, ylabel='Amount'>"
      ]
     },
     "execution_count": 14,
     "metadata": {},
     "output_type": "execute_result"
    },
    {
     "data": {
      "image/png": "[encoded data removed]",
      "text/plain": [
       "<Figure size 432x288 with 1 Axes>"
      ]
     },
     "metadata": {},
     "output_type": "display_data"
    }
   ],
   "source": [
    "# Plot savings pie chart\n",
    "df_savings.plot.pie(y='Amount', title=\"Total Savings Composition\")"
   ]
  },
  {
   "cell_type": "code",
   "execution_count": 15,
   "metadata": {},
   "outputs": [
    {
     "name": "stdout",
     "output_type": "stream",
     "text": [
      "Congratulations! You have enough money in your emergency fund.\n"
     ]
    }
   ],
   "source": [
    "# Set ideal emergency fund\n",
    "emergency_fund = monthly_income * 3\n",
    "\n",
    "# Calculate total amount of savings\n",
    "savings = (my_btc_value + my_eth_value) + (my_agg_value + my_spy_value)\n",
    "\n",
    "# Validate saving health\n",
    "if savings > emergency_fund:\n",
    "    print(\"Congratulations! You have enough money in your emergency fund.\")\n",
    "elif savings == emergency_fund:\n",
    "    print(\"Congratulations! You have reached your financial goal\")\n",
    "elif savings < emergency_fund:\n",
    "    print(f\"You are ${emergency_fund - savings} away from reaching your financial goal\")\n",
    "        "
   ]
  },
  {
   "cell_type": "markdown",
   "metadata": {},
   "source": [
    "## Part 2 - Retirement Planning\n",
    "\n",
    "### Monte Carlo Simulation"
   ]
  },
  {
   "cell_type": "code",
   "execution_count": 16,
   "metadata": {},
   "outputs": [],
   "source": [
    "# Set start and end dates of five years back from today.\n",
    "# Sample results may vary from the solution based on the time frame chosen\n",
    "start_date = pd.Timestamp('2016-12-05', tz='America/New_York').isoformat()\n",
    "end_date = pd.Timestamp('2021-12-05', tz='America/New_York').isoformat()"
   ]
  },
  {
   "cell_type": "code",
   "execution_count": 17,
   "metadata": {},
   "outputs": [
    {
     "data": {
      "text/html": [
       "<div>\n",
       "<style scoped>\n",
       "    .dataframe tbody tr th:only-of-type {\n",
       "        vertical-align: middle;\n",
       "    }\n",
       "\n",
       "    .dataframe tbody tr th {\n",
       "        vertical-align: top;\n",
       "    }\n",
       "\n",
       "    .dataframe thead tr th {\n",
       "        text-align: left;\n",
       "    }\n",
       "\n",
       "    .dataframe thead tr:last-of-type th {\n",
       "        text-align: right;\n",
       "    }\n",
       "</style>\n",
       "<table border=\"1\" class=\"dataframe\">\n",
       "  <thead>\n",
       "    <tr>\n",
       "      <th></th>\n",
       "      <th colspan=\"5\" halign=\"left\">AGG</th>\n",
       "      <th colspan=\"5\" halign=\"left\">SPY</th>\n",
       "    </tr>\n",
       "    <tr>\n",
       "      <th></th>\n",
       "      <th>open</th>\n",
       "      <th>high</th>\n",
       "      <th>low</th>\n",
       "      <th>close</th>\n",
       "      <th>volume</th>\n",
       "      <th>open</th>\n",
       "      <th>high</th>\n",
       "      <th>low</th>\n",
       "      <th>close</th>\n",
       "      <th>volume</th>\n",
       "    </tr>\n",
       "    <tr>\n",
       "      <th>time</th>\n",
       "      <th></th>\n",
       "      <th></th>\n",
       "      <th></th>\n",
       "      <th></th>\n",
       "      <th></th>\n",
       "      <th></th>\n",
       "      <th></th>\n",
       "      <th></th>\n",
       "      <th></th>\n",
       "      <th></th>\n",
       "    </tr>\n",
       "  </thead>\n",
       "  <tbody>\n",
       "    <tr>\n",
       "      <th>2017-12-14 00:00:00-05:00</th>\n",
       "      <td>109.31</td>\n",
       "      <td>109.51</td>\n",
       "      <td>109.2300</td>\n",
       "      <td>109.45</td>\n",
       "      <td>3698172</td>\n",
       "      <td>267.12</td>\n",
       "      <td>267.22</td>\n",
       "      <td>265.60</td>\n",
       "      <td>265.67</td>\n",
       "      <td>57343318</td>\n",
       "    </tr>\n",
       "    <tr>\n",
       "      <th>2017-12-15 00:00:00-05:00</th>\n",
       "      <td>109.42</td>\n",
       "      <td>109.55</td>\n",
       "      <td>109.3150</td>\n",
       "      <td>109.47</td>\n",
       "      <td>2034072</td>\n",
       "      <td>265.45</td>\n",
       "      <td>267.04</td>\n",
       "      <td>265.39</td>\n",
       "      <td>266.53</td>\n",
       "      <td>59269913</td>\n",
       "    </tr>\n",
       "    <tr>\n",
       "      <th>2017-12-18 00:00:00-05:00</th>\n",
       "      <td>109.47</td>\n",
       "      <td>109.47</td>\n",
       "      <td>109.2500</td>\n",
       "      <td>109.31</td>\n",
       "      <td>3090761</td>\n",
       "      <td>268.08</td>\n",
       "      <td>268.60</td>\n",
       "      <td>267.98</td>\n",
       "      <td>268.18</td>\n",
       "      <td>45691370</td>\n",
       "    </tr>\n",
       "    <tr>\n",
       "      <th>2017-12-19 00:00:00-05:00</th>\n",
       "      <td>109.14</td>\n",
       "      <td>109.16</td>\n",
       "      <td>108.8900</td>\n",
       "      <td>109.00</td>\n",
       "      <td>2583809</td>\n",
       "      <td>268.48</td>\n",
       "      <td>268.53</td>\n",
       "      <td>267.09</td>\n",
       "      <td>267.22</td>\n",
       "      <td>46990895</td>\n",
       "    </tr>\n",
       "    <tr>\n",
       "      <th>2017-12-20 00:00:00-05:00</th>\n",
       "      <td>108.75</td>\n",
       "      <td>108.88</td>\n",
       "      <td>108.7059</td>\n",
       "      <td>108.77</td>\n",
       "      <td>3123756</td>\n",
       "      <td>268.25</td>\n",
       "      <td>268.33</td>\n",
       "      <td>266.69</td>\n",
       "      <td>267.04</td>\n",
       "      <td>42133908</td>\n",
       "    </tr>\n",
       "  </tbody>\n",
       "</table>\n",
       "</div>"
      ],
      "text/plain": [
       "                              AGG                                        SPY  \\\n",
       "                             open    high       low   close   volume    open   \n",
       "time                                                                           \n",
       "2017-12-14 00:00:00-05:00  109.31  109.51  109.2300  109.45  3698172  267.12   \n",
       "2017-12-15 00:00:00-05:00  109.42  109.55  109.3150  109.47  2034072  265.45   \n",
       "2017-12-18 00:00:00-05:00  109.47  109.47  109.2500  109.31  3090761  268.08   \n",
       "2017-12-19 00:00:00-05:00  109.14  109.16  108.8900  109.00  2583809  268.48   \n",
       "2017-12-20 00:00:00-05:00  108.75  108.88  108.7059  108.77  3123756  268.25   \n",
       "\n",
       "                                                             \n",
       "                             high     low   close    volume  \n",
       "time                                                         \n",
       "2017-12-14 00:00:00-05:00  267.22  265.60  265.67  57343318  \n",
       "2017-12-15 00:00:00-05:00  267.04  265.39  266.53  59269913  \n",
       "2017-12-18 00:00:00-05:00  268.60  267.98  268.18  45691370  \n",
       "2017-12-19 00:00:00-05:00  268.53  267.09  267.22  46990895  \n",
       "2017-12-20 00:00:00-05:00  268.33  266.69  267.04  42133908  "
      ]
     },
     "execution_count": 17,
     "metadata": {},
     "output_type": "execute_result"
    }
   ],
   "source": [
    "# Get 5 years' worth of historical data for SPY and AGG\n",
    "# (use a limit=1000 parameter to call the most recent 1000 days of data)\n",
    "df_stock_data = api.get_barset(\n",
    "    tickers,\n",
    "    timeframe,\n",
    "    limit = 1000,\n",
    "    start = start_date,\n",
    "    end = end_date\n",
    ").df\n",
    "\n",
    "# Display sample data\n",
    "df_stock_data.head()"
   ]
  },
  {
   "cell_type": "code",
   "execution_count": 21,
   "metadata": {},
   "outputs": [],
   "source": [
    "# Configuring a Monte Carlo simulation to forecast 30 years cumulative returns\n",
    "MC_stock_data = MCSimulation(\n",
    "    portfolio_data = df_stock_data,\n",
    "    weights = [.6, .4],\n",
    "    num_simulation = 500,\n",
    "    num_trading_days = 252*30\n",
    ")"
   ]
  },
  {
   "cell_type": "code",
   "execution_count": 22,
   "metadata": {},
   "outputs": [
    {
     "data": {
      "text/html": [
       "<div>\n",
       "<style scoped>\n",
       "    .dataframe tbody tr th:only-of-type {\n",
       "        vertical-align: middle;\n",
       "    }\n",
       "\n",
       "    .dataframe tbody tr th {\n",
       "        vertical-align: top;\n",
       "    }\n",
       "\n",
       "    .dataframe thead tr th {\n",
       "        text-align: left;\n",
       "    }\n",
       "\n",
       "    .dataframe thead tr:last-of-type th {\n",
       "        text-align: right;\n",
       "    }\n",
       "</style>\n",
       "<table border=\"1\" class=\"dataframe\">\n",
       "  <thead>\n",
       "    <tr>\n",
       "      <th></th>\n",
       "      <th colspan=\"6\" halign=\"left\">AGG</th>\n",
       "      <th colspan=\"6\" halign=\"left\">SPY</th>\n",
       "    </tr>\n",
       "    <tr>\n",
       "      <th></th>\n",
       "      <th>open</th>\n",
       "      <th>high</th>\n",
       "      <th>low</th>\n",
       "      <th>close</th>\n",
       "      <th>volume</th>\n",
       "      <th>daily_return</th>\n",
       "      <th>open</th>\n",
       "      <th>high</th>\n",
       "      <th>low</th>\n",
       "      <th>close</th>\n",
       "      <th>volume</th>\n",
       "      <th>daily_return</th>\n",
       "    </tr>\n",
       "    <tr>\n",
       "      <th>time</th>\n",
       "      <th></th>\n",
       "      <th></th>\n",
       "      <th></th>\n",
       "      <th></th>\n",
       "      <th></th>\n",
       "      <th></th>\n",
       "      <th></th>\n",
       "      <th></th>\n",
       "      <th></th>\n",
       "      <th></th>\n",
       "      <th></th>\n",
       "      <th></th>\n",
       "    </tr>\n",
       "  </thead>\n",
       "  <tbody>\n",
       "    <tr>\n",
       "      <th>2017-12-14 00:00:00-05:00</th>\n",
       "      <td>109.31</td>\n",
       "      <td>109.51</td>\n",
       "      <td>109.2300</td>\n",
       "      <td>109.45</td>\n",
       "      <td>3698172</td>\n",
       "      <td>NaN</td>\n",
       "      <td>267.12</td>\n",
       "      <td>267.22</td>\n",
       "      <td>265.60</td>\n",
       "      <td>265.67</td>\n",
       "      <td>57343318</td>\n",
       "      <td>NaN</td>\n",
       "    </tr>\n",
       "    <tr>\n",
       "      <th>2017-12-15 00:00:00-05:00</th>\n",
       "      <td>109.42</td>\n",
       "      <td>109.55</td>\n",
       "      <td>109.3150</td>\n",
       "      <td>109.47</td>\n",
       "      <td>2034072</td>\n",
       "      <td>0.000183</td>\n",
       "      <td>265.45</td>\n",
       "      <td>267.04</td>\n",
       "      <td>265.39</td>\n",
       "      <td>266.53</td>\n",
       "      <td>59269913</td>\n",
       "      <td>0.003237</td>\n",
       "    </tr>\n",
       "    <tr>\n",
       "      <th>2017-12-18 00:00:00-05:00</th>\n",
       "      <td>109.47</td>\n",
       "      <td>109.47</td>\n",
       "      <td>109.2500</td>\n",
       "      <td>109.31</td>\n",
       "      <td>3090761</td>\n",
       "      <td>-0.001462</td>\n",
       "      <td>268.08</td>\n",
       "      <td>268.60</td>\n",
       "      <td>267.98</td>\n",
       "      <td>268.18</td>\n",
       "      <td>45691370</td>\n",
       "      <td>0.006191</td>\n",
       "    </tr>\n",
       "    <tr>\n",
       "      <th>2017-12-19 00:00:00-05:00</th>\n",
       "      <td>109.14</td>\n",
       "      <td>109.16</td>\n",
       "      <td>108.8900</td>\n",
       "      <td>109.00</td>\n",
       "      <td>2583809</td>\n",
       "      <td>-0.002836</td>\n",
       "      <td>268.48</td>\n",
       "      <td>268.53</td>\n",
       "      <td>267.09</td>\n",
       "      <td>267.22</td>\n",
       "      <td>46990895</td>\n",
       "      <td>-0.003580</td>\n",
       "    </tr>\n",
       "    <tr>\n",
       "      <th>2017-12-20 00:00:00-05:00</th>\n",
       "      <td>108.75</td>\n",
       "      <td>108.88</td>\n",
       "      <td>108.7059</td>\n",
       "      <td>108.77</td>\n",
       "      <td>3123756</td>\n",
       "      <td>-0.002110</td>\n",
       "      <td>268.25</td>\n",
       "      <td>268.33</td>\n",
       "      <td>266.69</td>\n",
       "      <td>267.04</td>\n",
       "      <td>42133908</td>\n",
       "      <td>-0.000674</td>\n",
       "    </tr>\n",
       "  </tbody>\n",
       "</table>\n",
       "</div>"
      ],
      "text/plain": [
       "                              AGG                                     \\\n",
       "                             open    high       low   close   volume   \n",
       "time                                                                   \n",
       "2017-12-14 00:00:00-05:00  109.31  109.51  109.2300  109.45  3698172   \n",
       "2017-12-15 00:00:00-05:00  109.42  109.55  109.3150  109.47  2034072   \n",
       "2017-12-18 00:00:00-05:00  109.47  109.47  109.2500  109.31  3090761   \n",
       "2017-12-19 00:00:00-05:00  109.14  109.16  108.8900  109.00  2583809   \n",
       "2017-12-20 00:00:00-05:00  108.75  108.88  108.7059  108.77  3123756   \n",
       "\n",
       "                                           SPY                          \\\n",
       "                          daily_return    open    high     low   close   \n",
       "time                                                                     \n",
       "2017-12-14 00:00:00-05:00          NaN  267.12  267.22  265.60  265.67   \n",
       "2017-12-15 00:00:00-05:00     0.000183  265.45  267.04  265.39  266.53   \n",
       "2017-12-18 00:00:00-05:00    -0.001462  268.08  268.60  267.98  268.18   \n",
       "2017-12-19 00:00:00-05:00    -0.002836  268.48  268.53  267.09  267.22   \n",
       "2017-12-20 00:00:00-05:00    -0.002110  268.25  268.33  266.69  267.04   \n",
       "\n",
       "                                                  \n",
       "                             volume daily_return  \n",
       "time                                              \n",
       "2017-12-14 00:00:00-05:00  57343318          NaN  \n",
       "2017-12-15 00:00:00-05:00  59269913     0.003237  \n",
       "2017-12-18 00:00:00-05:00  45691370     0.006191  \n",
       "2017-12-19 00:00:00-05:00  46990895    -0.003580  \n",
       "2017-12-20 00:00:00-05:00  42133908    -0.000674  "
      ]
     },
     "execution_count": 22,
     "metadata": {},
     "output_type": "execute_result"
    }
   ],
   "source": [
    "# Printing the simulation input data\n",
    "MC_stock_data.portfolio_data.head()"
   ]
  },
  {
   "cell_type": "code",
   "execution_count": 23,
   "metadata": {},
   "outputs": [
    {
     "name": "stdout",
     "output_type": "stream",
     "text": [
      "Running Monte Carlo simulation number 0.\n",
      "Running Monte Carlo simulation number 10.\n",
      "Running Monte Carlo simulation number 20.\n",
      "Running Monte Carlo simulation number 30.\n",
      "Running Monte Carlo simulation number 40.\n",
      "Running Monte Carlo simulation number 50.\n",
      "Running Monte Carlo simulation number 60.\n",
      "Running Monte Carlo simulation number 70.\n",
      "Running Monte Carlo simulation number 80.\n",
      "Running Monte Carlo simulation number 90.\n",
      "Running Monte Carlo simulation number 100.\n"
     ]
    },
    {
     "name": "stderr",
     "output_type": "stream",
     "text": [
      "/Users/tyesondemets/Desktop/Git/Financial_Planner/MCForecastTools.py:117: PerformanceWarning: DataFrame is highly fragmented.  This is usually the result of calling `frame.insert` many times, which has poor performance.  Consider joining all columns at once using pd.concat(axis=1) instead.  To get a de-fragmented frame, use `newframe = frame.copy()`\n",
      "  portfolio_cumulative_returns[n] = (1 + sim_df.fillna(0)).cumprod()\n"
     ]
    },
    {
     "name": "stdout",
     "output_type": "stream",
     "text": [
      "Running Monte Carlo simulation number 110.\n",
      "Running Monte Carlo simulation number 120.\n",
      "Running Monte Carlo simulation number 130.\n",
      "Running Monte Carlo simulation number 140.\n",
      "Running Monte Carlo simulation number 150.\n",
      "Running Monte Carlo simulation number 160.\n",
      "Running Monte Carlo simulation number 170.\n",
      "Running Monte Carlo simulation number 180.\n",
      "Running Monte Carlo simulation number 190.\n",
      "Running Monte Carlo simulation number 200.\n",
      "Running Monte Carlo simulation number 210.\n",
      "Running Monte Carlo simulation number 220.\n",
      "Running Monte Carlo simulation number 230.\n",
      "Running Monte Carlo simulation number 240.\n",
      "Running Monte Carlo simulation number 250.\n",
      "Running Monte Carlo simulation number 260.\n",
      "Running Monte Carlo simulation number 270.\n",
      "Running Monte Carlo simulation number 280.\n",
      "Running Monte Carlo simulation number 290.\n",
      "Running Monte Carlo simulation number 300.\n",
      "Running Monte Carlo simulation number 310.\n",
      "Running Monte Carlo simulation number 320.\n",
      "Running Monte Carlo simulation number 330.\n",
      "Running Monte Carlo simulation number 340.\n",
      "Running Monte Carlo simulation number 350.\n",
      "Running Monte Carlo simulation number 360.\n",
      "Running Monte Carlo simulation number 370.\n",
      "Running Monte Carlo simulation number 380.\n",
      "Running Monte Carlo simulation number 390.\n",
      "Running Monte Carlo simulation number 400.\n",
      "Running Monte Carlo simulation number 410.\n",
      "Running Monte Carlo simulation number 420.\n",
      "Running Monte Carlo simulation number 430.\n",
      "Running Monte Carlo simulation number 440.\n",
      "Running Monte Carlo simulation number 450.\n",
      "Running Monte Carlo simulation number 460.\n",
      "Running Monte Carlo simulation number 470.\n",
      "Running Monte Carlo simulation number 480.\n",
      "Running Monte Carlo simulation number 490.\n"
     ]
    },
    {
     "data": {
      "text/html": [
       "<div>\n",
       "<style scoped>\n",
       "    .dataframe tbody tr th:only-of-type {\n",
       "        vertical-align: middle;\n",
       "    }\n",
       "\n",
       "    .dataframe tbody tr th {\n",
       "        vertical-align: top;\n",
       "    }\n",
       "\n",
       "    .dataframe thead th {\n",
       "        text-align: right;\n",
       "    }\n",
       "</style>\n",
       "<table border=\"1\" class=\"dataframe\">\n",
       "  <thead>\n",
       "    <tr style=\"text-align: right;\">\n",
       "      <th></th>\n",
       "      <th>0</th>\n",
       "      <th>1</th>\n",
       "      <th>2</th>\n",
       "      <th>3</th>\n",
       "      <th>4</th>\n",
       "      <th>5</th>\n",
       "      <th>6</th>\n",
       "      <th>7</th>\n",
       "      <th>8</th>\n",
       "      <th>9</th>\n",
       "      <th>...</th>\n",
       "      <th>490</th>\n",
       "      <th>491</th>\n",
       "      <th>492</th>\n",
       "      <th>493</th>\n",
       "      <th>494</th>\n",
       "      <th>495</th>\n",
       "      <th>496</th>\n",
       "      <th>497</th>\n",
       "      <th>498</th>\n",
       "      <th>499</th>\n",
       "    </tr>\n",
       "  </thead>\n",
       "  <tbody>\n",
       "    <tr>\n",
       "      <th>0</th>\n",
       "      <td>1.000000</td>\n",
       "      <td>1.000000</td>\n",
       "      <td>1.000000</td>\n",
       "      <td>1.000000</td>\n",
       "      <td>1.000000</td>\n",
       "      <td>1.000000</td>\n",
       "      <td>1.000000</td>\n",
       "      <td>1.000000</td>\n",
       "      <td>1.000000</td>\n",
       "      <td>1.000000</td>\n",
       "      <td>...</td>\n",
       "      <td>1.000000</td>\n",
       "      <td>1.000000</td>\n",
       "      <td>1.000000</td>\n",
       "      <td>1.000000</td>\n",
       "      <td>1.000000</td>\n",
       "      <td>1.000000</td>\n",
       "      <td>1.000000</td>\n",
       "      <td>1.000000</td>\n",
       "      <td>1.000000</td>\n",
       "      <td>1.000000</td>\n",
       "    </tr>\n",
       "    <tr>\n",
       "      <th>1</th>\n",
       "      <td>1.002835</td>\n",
       "      <td>0.998570</td>\n",
       "      <td>1.000419</td>\n",
       "      <td>1.005568</td>\n",
       "      <td>1.012029</td>\n",
       "      <td>1.003976</td>\n",
       "      <td>0.993633</td>\n",
       "      <td>0.991249</td>\n",
       "      <td>0.988397</td>\n",
       "      <td>1.010938</td>\n",
       "      <td>...</td>\n",
       "      <td>1.009255</td>\n",
       "      <td>0.996487</td>\n",
       "      <td>0.996530</td>\n",
       "      <td>1.005821</td>\n",
       "      <td>0.996629</td>\n",
       "      <td>0.996564</td>\n",
       "      <td>0.997393</td>\n",
       "      <td>0.989986</td>\n",
       "      <td>0.995652</td>\n",
       "      <td>0.995102</td>\n",
       "    </tr>\n",
       "    <tr>\n",
       "      <th>2</th>\n",
       "      <td>0.995747</td>\n",
       "      <td>0.993451</td>\n",
       "      <td>0.993490</td>\n",
       "      <td>1.006062</td>\n",
       "      <td>1.016437</td>\n",
       "      <td>0.997408</td>\n",
       "      <td>0.993039</td>\n",
       "      <td>0.996576</td>\n",
       "      <td>0.998277</td>\n",
       "      <td>1.009833</td>\n",
       "      <td>...</td>\n",
       "      <td>1.017214</td>\n",
       "      <td>0.991081</td>\n",
       "      <td>0.998451</td>\n",
       "      <td>1.011510</td>\n",
       "      <td>0.994813</td>\n",
       "      <td>0.999452</td>\n",
       "      <td>0.997340</td>\n",
       "      <td>0.988668</td>\n",
       "      <td>0.976600</td>\n",
       "      <td>0.987628</td>\n",
       "    </tr>\n",
       "    <tr>\n",
       "      <th>3</th>\n",
       "      <td>0.996123</td>\n",
       "      <td>1.002055</td>\n",
       "      <td>0.988275</td>\n",
       "      <td>1.017537</td>\n",
       "      <td>1.022757</td>\n",
       "      <td>0.997619</td>\n",
       "      <td>0.990247</td>\n",
       "      <td>0.998523</td>\n",
       "      <td>0.998421</td>\n",
       "      <td>1.009978</td>\n",
       "      <td>...</td>\n",
       "      <td>1.016122</td>\n",
       "      <td>0.985885</td>\n",
       "      <td>1.003650</td>\n",
       "      <td>1.015272</td>\n",
       "      <td>0.991389</td>\n",
       "      <td>1.010006</td>\n",
       "      <td>0.987994</td>\n",
       "      <td>0.990091</td>\n",
       "      <td>0.982433</td>\n",
       "      <td>0.982666</td>\n",
       "    </tr>\n",
       "    <tr>\n",
       "      <th>4</th>\n",
       "      <td>0.995442</td>\n",
       "      <td>1.001786</td>\n",
       "      <td>0.984968</td>\n",
       "      <td>1.018029</td>\n",
       "      <td>1.023698</td>\n",
       "      <td>0.998783</td>\n",
       "      <td>0.997751</td>\n",
       "      <td>1.004005</td>\n",
       "      <td>0.988639</td>\n",
       "      <td>1.011462</td>\n",
       "      <td>...</td>\n",
       "      <td>1.016531</td>\n",
       "      <td>0.993833</td>\n",
       "      <td>1.007914</td>\n",
       "      <td>1.018169</td>\n",
       "      <td>0.987491</td>\n",
       "      <td>1.000890</td>\n",
       "      <td>0.974098</td>\n",
       "      <td>0.994248</td>\n",
       "      <td>0.982313</td>\n",
       "      <td>0.981478</td>\n",
       "    </tr>\n",
       "    <tr>\n",
       "      <th>...</th>\n",
       "      <td>...</td>\n",
       "      <td>...</td>\n",
       "      <td>...</td>\n",
       "      <td>...</td>\n",
       "      <td>...</td>\n",
       "      <td>...</td>\n",
       "      <td>...</td>\n",
       "      <td>...</td>\n",
       "      <td>...</td>\n",
       "      <td>...</td>\n",
       "      <td>...</td>\n",
       "      <td>...</td>\n",
       "      <td>...</td>\n",
       "      <td>...</td>\n",
       "      <td>...</td>\n",
       "      <td>...</td>\n",
       "      <td>...</td>\n",
       "      <td>...</td>\n",
       "      <td>...</td>\n",
       "      <td>...</td>\n",
       "      <td>...</td>\n",
       "    </tr>\n",
       "    <tr>\n",
       "      <th>7556</th>\n",
       "      <td>7.160951</td>\n",
       "      <td>5.056817</td>\n",
       "      <td>6.374257</td>\n",
       "      <td>3.478841</td>\n",
       "      <td>9.891313</td>\n",
       "      <td>12.378138</td>\n",
       "      <td>7.584851</td>\n",
       "      <td>7.912149</td>\n",
       "      <td>3.906281</td>\n",
       "      <td>7.283906</td>\n",
       "      <td>...</td>\n",
       "      <td>5.000370</td>\n",
       "      <td>3.858387</td>\n",
       "      <td>12.106453</td>\n",
       "      <td>6.143057</td>\n",
       "      <td>5.657689</td>\n",
       "      <td>5.794884</td>\n",
       "      <td>5.520834</td>\n",
       "      <td>9.245608</td>\n",
       "      <td>24.131856</td>\n",
       "      <td>8.759322</td>\n",
       "    </tr>\n",
       "    <tr>\n",
       "      <th>7557</th>\n",
       "      <td>7.223538</td>\n",
       "      <td>5.046140</td>\n",
       "      <td>6.342028</td>\n",
       "      <td>3.513224</td>\n",
       "      <td>9.960397</td>\n",
       "      <td>12.383115</td>\n",
       "      <td>7.660273</td>\n",
       "      <td>7.935606</td>\n",
       "      <td>3.878643</td>\n",
       "      <td>7.211927</td>\n",
       "      <td>...</td>\n",
       "      <td>4.992691</td>\n",
       "      <td>3.831138</td>\n",
       "      <td>12.147810</td>\n",
       "      <td>6.137618</td>\n",
       "      <td>5.662981</td>\n",
       "      <td>5.791638</td>\n",
       "      <td>5.559650</td>\n",
       "      <td>9.218547</td>\n",
       "      <td>24.176386</td>\n",
       "      <td>8.775533</td>\n",
       "    </tr>\n",
       "    <tr>\n",
       "      <th>7558</th>\n",
       "      <td>7.283848</td>\n",
       "      <td>5.041871</td>\n",
       "      <td>6.333316</td>\n",
       "      <td>3.548395</td>\n",
       "      <td>10.022347</td>\n",
       "      <td>12.521299</td>\n",
       "      <td>7.662344</td>\n",
       "      <td>7.889748</td>\n",
       "      <td>3.877094</td>\n",
       "      <td>7.220813</td>\n",
       "      <td>...</td>\n",
       "      <td>4.995492</td>\n",
       "      <td>3.831339</td>\n",
       "      <td>12.116524</td>\n",
       "      <td>6.047628</td>\n",
       "      <td>5.615596</td>\n",
       "      <td>5.803645</td>\n",
       "      <td>5.543591</td>\n",
       "      <td>9.122231</td>\n",
       "      <td>24.092067</td>\n",
       "      <td>8.688807</td>\n",
       "    </tr>\n",
       "    <tr>\n",
       "      <th>7559</th>\n",
       "      <td>7.260298</td>\n",
       "      <td>5.039549</td>\n",
       "      <td>6.222764</td>\n",
       "      <td>3.560700</td>\n",
       "      <td>10.013784</td>\n",
       "      <td>12.527785</td>\n",
       "      <td>7.658790</td>\n",
       "      <td>7.918898</td>\n",
       "      <td>3.906293</td>\n",
       "      <td>7.262393</td>\n",
       "      <td>...</td>\n",
       "      <td>4.974610</td>\n",
       "      <td>3.820126</td>\n",
       "      <td>12.124322</td>\n",
       "      <td>6.015857</td>\n",
       "      <td>5.663031</td>\n",
       "      <td>5.760915</td>\n",
       "      <td>5.520744</td>\n",
       "      <td>9.115846</td>\n",
       "      <td>24.307052</td>\n",
       "      <td>8.677957</td>\n",
       "    </tr>\n",
       "    <tr>\n",
       "      <th>7560</th>\n",
       "      <td>7.283780</td>\n",
       "      <td>5.084711</td>\n",
       "      <td>6.256080</td>\n",
       "      <td>3.605778</td>\n",
       "      <td>10.028297</td>\n",
       "      <td>12.427011</td>\n",
       "      <td>7.633895</td>\n",
       "      <td>7.890425</td>\n",
       "      <td>3.931853</td>\n",
       "      <td>7.287159</td>\n",
       "      <td>...</td>\n",
       "      <td>4.939694</td>\n",
       "      <td>3.796065</td>\n",
       "      <td>12.057308</td>\n",
       "      <td>6.022848</td>\n",
       "      <td>5.629288</td>\n",
       "      <td>5.730490</td>\n",
       "      <td>5.538281</td>\n",
       "      <td>9.167854</td>\n",
       "      <td>24.174423</td>\n",
       "      <td>8.659221</td>\n",
       "    </tr>\n",
       "  </tbody>\n",
       "</table>\n",
       "<p>7561 rows × 500 columns</p>\n",
       "</div>"
      ],
      "text/plain": [
       "           0         1         2         3          4          5         6    \\\n",
       "0     1.000000  1.000000  1.000000  1.000000   1.000000   1.000000  1.000000   \n",
       "1     1.002835  0.998570  1.000419  1.005568   1.012029   1.003976  0.993633   \n",
       "2     0.995747  0.993451  0.993490  1.006062   1.016437   0.997408  0.993039   \n",
       "3     0.996123  1.002055  0.988275  1.017537   1.022757   0.997619  0.990247   \n",
       "4     0.995442  1.001786  0.984968  1.018029   1.023698   0.998783  0.997751   \n",
       "...        ...       ...       ...       ...        ...        ...       ...   \n",
       "7556  7.160951  5.056817  6.374257  3.478841   9.891313  12.378138  7.584851   \n",
       "7557  7.223538  5.046140  6.342028  3.513224   9.960397  12.383115  7.660273   \n",
       "7558  7.283848  5.041871  6.333316  3.548395  10.022347  12.521299  7.662344   \n",
       "7559  7.260298  5.039549  6.222764  3.560700  10.013784  12.527785  7.658790   \n",
       "7560  7.283780  5.084711  6.256080  3.605778  10.028297  12.427011  7.633895   \n",
       "\n",
       "           7         8         9    ...       490       491        492  \\\n",
       "0     1.000000  1.000000  1.000000  ...  1.000000  1.000000   1.000000   \n",
       "1     0.991249  0.988397  1.010938  ...  1.009255  0.996487   0.996530   \n",
       "2     0.996576  0.998277  1.009833  ...  1.017214  0.991081   0.998451   \n",
       "3     0.998523  0.998421  1.009978  ...  1.016122  0.985885   1.003650   \n",
       "4     1.004005  0.988639  1.011462  ...  1.016531  0.993833   1.007914   \n",
       "...        ...       ...       ...  ...       ...       ...        ...   \n",
       "7556  7.912149  3.906281  7.283906  ...  5.000370  3.858387  12.106453   \n",
       "7557  7.935606  3.878643  7.211927  ...  4.992691  3.831138  12.147810   \n",
       "7558  7.889748  3.877094  7.220813  ...  4.995492  3.831339  12.116524   \n",
       "7559  7.918898  3.906293  7.262393  ...  4.974610  3.820126  12.124322   \n",
       "7560  7.890425  3.931853  7.287159  ...  4.939694  3.796065  12.057308   \n",
       "\n",
       "           493       494       495       496       497        498       499  \n",
       "0     1.000000  1.000000  1.000000  1.000000  1.000000   1.000000  1.000000  \n",
       "1     1.005821  0.996629  0.996564  0.997393  0.989986   0.995652  0.995102  \n",
       "2     1.011510  0.994813  0.999452  0.997340  0.988668   0.976600  0.987628  \n",
       "3     1.015272  0.991389  1.010006  0.987994  0.990091   0.982433  0.982666  \n",
       "4     1.018169  0.987491  1.000890  0.974098  0.994248   0.982313  0.981478  \n",
       "...        ...       ...       ...       ...       ...        ...       ...  \n",
       "7556  6.143057  5.657689  5.794884  5.520834  9.245608  24.131856  8.759322  \n",
       "7557  6.137618  5.662981  5.791638  5.559650  9.218547  24.176386  8.775533  \n",
       "7558  6.047628  5.615596  5.803645  5.543591  9.122231  24.092067  8.688807  \n",
       "7559  6.015857  5.663031  5.760915  5.520744  9.115846  24.307052  8.677957  \n",
       "7560  6.022848  5.629288  5.730490  5.538281  9.167854  24.174423  8.659221  \n",
       "\n",
       "[7561 rows x 500 columns]"
      ]
     },
     "execution_count": 23,
     "metadata": {},
     "output_type": "execute_result"
    }
   ],
   "source": [
    "# Running a Monte Carlo simulation to forecast 30 years cumulative returns\n",
    "MC_stock_data.calc_cumulative_return()"
   ]
  },
  {
   "cell_type": "code",
   "execution_count": 25,
   "metadata": {},
   "outputs": [
    {
     "data": {
      "image/png": "[encoded data removed]",
      "text/plain": [
       "<Figure size 432x288 with 1 Axes>"
      ]
     },
     "metadata": {
      "needs_background": "light"
     },
     "output_type": "display_data"
    }
   ],
   "source": [
    "# Plot simulation outcomes\n",
    "line_plot = MC_stock_data.plot_simulation()"
   ]
  },
  {
   "cell_type": "code",
   "execution_count": 27,
   "metadata": {},
   "outputs": [
    {
     "data": {
      "image/png": "[encoded data removed]",
      "text/plain": [
       "<Figure size 432x288 with 1 Axes>"
      ]
     },
     "metadata": {
      "needs_background": "light"
     },
     "output_type": "display_data"
    }
   ],
   "source": [
    "# Plot probability distribution and confidence intervals\n",
    "dist_plot = MC_stock_data.plot_distribution()"
   ]
  },
  {
   "cell_type": "markdown",
   "metadata": {},
   "source": [
    "### Retirement Analysis"
   ]
  },
  {
   "cell_type": "code",
   "execution_count": 28,
   "metadata": {},
   "outputs": [
    {
     "name": "stdout",
     "output_type": "stream",
     "text": [
      "count           500.000000\n",
      "mean              8.566563\n",
      "std               4.526279\n",
      "min               1.113315\n",
      "25%               5.541809\n",
      "50%               7.427592\n",
      "75%              10.495973\n",
      "max              40.786425\n",
      "95% CI Lower      3.206021\n",
      "95% CI Upper     20.725562\n",
      "Name: 7560, dtype: float64\n"
     ]
    }
   ],
   "source": [
    "# Fetch summary statistics from the Monte Carlo simulation results\n",
    "tbl = MC_stock_data.summarize_cumulative_return()\n",
    "\n",
    "# Print summary statistics\n",
    "print(tbl)"
   ]
  },
  {
   "cell_type": "markdown",
   "metadata": {},
   "source": [
    "### Calculate the expected portfolio return at the `95%` lower and upper confidence intervals based on a `$20,000` initial investment."
   ]
  },
  {
   "cell_type": "code",
   "execution_count": 29,
   "metadata": {},
   "outputs": [
    {
     "name": "stdout",
     "output_type": "stream",
     "text": [
      "There is a 95% chance that an initial investment of $20000 in the portfolio over the next 30 years will end within in the range of $64120.41 and $414511.24\n"
     ]
    }
   ],
   "source": [
    "# Set initial investment\n",
    "initial_investment = 20000\n",
    "\n",
    "# Use the lower and upper `95%` confidence intervals to calculate the range of the possible outcomes of our $20,000\n",
    "ci_lower = round(tbl[8]*initial_investment,2)\n",
    "ci_upper = round(tbl[9]*initial_investment,2)\n",
    "\n",
    "# Print results\n",
    "print(f\"There is a 95% chance that an initial investment of ${initial_investment} in the portfolio\"\n",
    "      f\" over the next 30 years will end within in the range of\"\n",
    "      f\" ${ci_lower} and ${ci_upper}\")"
   ]
  },
  {
   "cell_type": "markdown",
   "metadata": {},
   "source": [
    "### Calculate the expected portfolio return at the `95%` lower and upper confidence intervals based on a `50%` increase in the initial investment."
   ]
  },
  {
   "cell_type": "code",
   "execution_count": 31,
   "metadata": {},
   "outputs": [
    {
     "name": "stdout",
     "output_type": "stream",
     "text": [
      "There is a 95% chance that an initial investment of $30000 in the portfolio over the next 30 years will end within in the range of $96180.62 and $621766.87\n"
     ]
    }
   ],
   "source": [
    "# Set initial investment\n",
    "initial_investment = round(20000 * 1.5)\n",
    "\n",
    "# Use the lower and upper `95%` confidence intervals to calculate the range of the possible outcomes of our $30,000\n",
    "ci_lower = round(tbl[8]*initial_investment,2)\n",
    "ci_upper = round(tbl[9]*initial_investment,2)\n",
    "\n",
    "# Print results\n",
    "print(f\"There is a 95% chance that an initial investment of ${initial_investment} in the portfolio\"\n",
    "      f\" over the next 30 years will end within in the range of\"\n",
    "      f\" ${ci_lower} and ${ci_upper}\")"
   ]
  },
  {
   "cell_type": "markdown",
   "metadata": {},
   "source": [
    "## Optional Challenge - Early Retirement\n",
    "\n",
    "\n",
    "### Five Years Retirement Option"
   ]
  },
  {
   "cell_type": "code",
   "execution_count": null,
   "metadata": {},
   "outputs": [],
   "source": [
    "# Configuring a Monte Carlo simulation to forecast 5 years cumulative returns\n",
    "# YOUR CODE HERE!"
   ]
  },
  {
   "cell_type": "code",
   "execution_count": null,
   "metadata": {},
   "outputs": [],
   "source": [
    "# Running a Monte Carlo simulation to forecast 5 years cumulative returns\n",
    "# YOUR CODE HERE!"
   ]
  },
  {
   "cell_type": "code",
   "execution_count": null,
   "metadata": {},
   "outputs": [],
   "source": [
    "# Plot simulation outcomes\n",
    "# YOUR CODE HERE!"
   ]
  },
  {
   "cell_type": "code",
   "execution_count": null,
   "metadata": {},
   "outputs": [],
   "source": [
    "# Plot probability distribution and confidence intervals\n",
    "# YOUR CODE HERE!"
   ]
  },
  {
   "cell_type": "code",
   "execution_count": null,
   "metadata": {},
   "outputs": [],
   "source": [
    "# Fetch summary statistics from the Monte Carlo simulation results\n",
    "# YOUR CODE HERE!\n",
    "\n",
    "# Print summary statistics\n",
    "# YOUR CODE HERE!"
   ]
  },
  {
   "cell_type": "code",
   "execution_count": null,
   "metadata": {},
   "outputs": [],
   "source": [
    "# Set initial investment\n",
    "# YOUR CODE HERE!\n",
    "\n",
    "# Use the lower and upper `95%` confidence intervals to calculate the range of the possible outcomes of our $60,000\n",
    "# YOUR CODE HERE!\n",
    "\n",
    "# Print results\n",
    "print(f\"There is a 95% chance that an initial investment of ${initial_investment} in the portfolio\"\n",
    "      f\" over the next 5 years will end within in the range of\"\n",
    "      f\" ${ci_lower_five} and ${ci_upper_five}\")"
   ]
  },
  {
   "cell_type": "markdown",
   "metadata": {},
   "source": [
    "### Ten Years Retirement Option"
   ]
  },
  {
   "cell_type": "code",
   "execution_count": null,
   "metadata": {},
   "outputs": [],
   "source": [
    "# Configuring a Monte Carlo simulation to forecast 10 years cumulative returns\n",
    "# YOUR CODE HERE!"
   ]
  },
  {
   "cell_type": "code",
   "execution_count": null,
   "metadata": {},
   "outputs": [],
   "source": [
    "# Running a Monte Carlo simulation to forecast 10 years cumulative returns\n",
    "# YOUR CODE HERE!"
   ]
  },
  {
   "cell_type": "code",
   "execution_count": null,
   "metadata": {},
   "outputs": [],
   "source": [
    "# Plot simulation outcomes\n",
    "# YOUR CODE HERE!"
   ]
  },
  {
   "cell_type": "code",
   "execution_count": null,
   "metadata": {},
   "outputs": [],
   "source": [
    "# Plot probability distribution and confidence intervals\n",
    "# YOUR CODE HERE!"
   ]
  },
  {
   "cell_type": "code",
   "execution_count": null,
   "metadata": {},
   "outputs": [],
   "source": [
    "# Fetch summary statistics from the Monte Carlo simulation results\n",
    "# YOUR CODE HERE!\n",
    "\n",
    "# Print summary statistics\n",
    "# YOUR CODE HERE!"
   ]
  },
  {
   "cell_type": "code",
   "execution_count": null,
   "metadata": {},
   "outputs": [],
   "source": [
    "# Set initial investment\n",
    "# YOUR CODE HERE!\n",
    "\n",
    "# Use the lower and upper `95%` confidence intervals to calculate the range of the possible outcomes of our $60,000\n",
    "# YOUR CODE HERE!\n",
    "\n",
    "# Print results\n",
    "print(f\"There is a 95% chance that an initial investment of ${initial_investment} in the portfolio\"\n",
    "      f\" over the next 10 years will end within in the range of\"\n",
    "      f\" ${ci_lower_ten} and ${ci_upper_ten}\")"
   ]
  },
  {
   "cell_type": "code",
   "execution_count": null,
   "metadata": {},
   "outputs": [],
   "source": []
  }
 ],
 "metadata": {
  "kernelspec": {
   "display_name": "Python 3 (ipykernel)",
   "language": "python",
   "name": "python3"
  },
  "language_info": {
   "codemirror_mode": {
    "name": "ipython",
    "version": 3
   },
   "file_extension": ".py",
   "mimetype": "text/x-python",
   "name": "python",
   "nbconvert_exporter": "python",
   "pygments_lexer": "ipython3",
   "version": "3.8.8"
  },
  "nteract": {
   "version": "0.28.0"
  }
 },
 "nbformat": 4,
 "nbformat_minor": 4
}
